{
 "cells": [
  {
   "cell_type": "markdown",
   "metadata": {},
   "source": [
    "# Procesamiento de Lenguaje natural en español\n",
    "\n",
    " - Las principales librerías están entrenadas con corpus en inglés, algunas aproximaciones sugieren realizar una traducción de los textos al inglés antes de procesarlos, pero todos sabemos lo que sucede cuando se traduce.\n",
    " - Otra aproximación es encontrar un corpus en español y entrenar un modelo usando una librería, eso haremos hoy con Spacy\n",
    "\n",
    "¿Dónde obtener un Corpus en español?\n",
    "Veamos el trabajo de los amigos de la Sociedad Española de Procesamiento del Lenguaje Natural y su TASS [Taller de Análisis Semántico en la SEPLN](http://tass.sepln.org)\n",
    "\n",
    "Este código ha sido adaptado al español del [NLP Tutorial 8 - Sentiment Classification using SpaCy for IMDB and Amazon Review Dataset](https://www.youtube.com/watch?v=cd51nXNpiiU) creado por [Aarya Tadvalkar](https://kgptalkie.com/author/aarya/)\n",
    "\n",
    "Para que lo sigan con más facilidad está disponible en el repo de GitHb https://github.com/WomenWhoCode/WWCodeBogota/tree/Python"
   ]
  },
  {
   "cell_type": "code",
   "execution_count": null,
   "metadata": {},
   "outputs": [],
   "source": []
  }
 ],
 "metadata": {
  "kernelspec": {
   "display_name": "Python 3",
   "language": "python",
   "name": "python3"
  },
  "language_info": {
   "codemirror_mode": {
    "name": "ipython",
    "version": 3
   },
   "file_extension": ".py",
   "mimetype": "text/x-python",
   "name": "python",
   "nbconvert_exporter": "python",
   "pygments_lexer": "ipython3",
   "version": "3.7.0"
  }
 },
 "nbformat": 4,
 "nbformat_minor": 2
}
